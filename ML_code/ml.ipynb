{
 "cells": [
  {
   "cell_type": "code",
   "execution_count": null,
   "id": "4db222c5-dc1c-4896-91f7-bf59bc2ee904",
   "metadata": {},
   "outputs": [],
   "source": [
    "from pycaret.regression import *\n",
    "import pandas as pd"
   ]
  },
  {
   "cell_type": "code",
   "execution_count": null,
   "id": "448c8a27-8b0b-49b8-978b-44cf4a14cddb",
   "metadata": {},
   "outputs": [],
   "source": [
    "dataset = pd.read_csv(\"Dataset/training.csv\")\n",
    "\n",
    "data = dataset.sample(frac=0.9, random_state=786)\n",
    "data_unseen = dataset.drop(data.index)\n",
    "\n",
    "data.reset_index(drop=True, inplace=True)\n",
    "data_unseen.reset_index(drop=True, inplace=True)\n",
    "\n",
    "print('Data for Modeling: ' + str(data.shape))\n",
    "print('Unseen Data For Predictions ' + str(data_unseen.shape))"
   ]
  },
  {
   "cell_type": "code",
   "execution_count": null,
   "id": "8c7ab64d-d40f-48ab-a925-f720e8912ca4",
   "metadata": {},
   "outputs": [],
   "source": [
    "from pandas_profiling import ProfileReport\n",
    "prof = ProfileReport(dataset)\n",
    "prof"
   ]
  },
  {
   "cell_type": "markdown",
   "id": "b4a2ab34-27e5-43c8-92a8-1f2646a60ae8",
   "metadata": {},
   "source": [
    "# Create ML models"
   ]
  },
  {
   "cell_type": "code",
   "execution_count": null,
   "id": "d6b61420-2bb9-4ae7-85c8-e8a9943a8123",
   "metadata": {},
   "outputs": [],
   "source": [
    "exp_reg = setup(data=data,use_gpu=True, numeric_features=[\"H-Acceptors\", \"H-Donors\",\"Electronegative Atoms\", \"Rotatable Bonds\", \"Small Rings\", \"Aromatic Rings\"], target=\"pKi\",session_id=123,high_cardinality_features=['Cano_SMILES','InChI_Key'],\n",
    "                  remove_multicollinearity = True, multicollinearity_threshold = 0.95,log_experiment = True, experiment_name = 'ml_model',silent=True)"
   ]
  },
  {
   "cell_type": "code",
   "execution_count": null,
   "id": "97751ce3-bc78-44ac-98b2-5d96a410947c",
   "metadata": {},
   "outputs": [],
   "source": [
    "save_config('ml_setup.pkl')"
   ]
  },
  {
   "cell_type": "markdown",
   "id": "17a10511-4ce2-4fd0-8ff7-16aa7998b0c6",
   "metadata": {},
   "source": [
    "# Compare and create ML models"
   ]
  },
  {
   "cell_type": "code",
   "execution_count": null,
   "id": "96d0ddb4-4beb-4be4-b145-d1bb7a230794",
   "metadata": {},
   "outputs": [],
   "source": [
    "best = compare_models(exclude = ['ransac'])"
   ]
  },
  {
   "cell_type": "code",
   "execution_count": null,
   "id": "2ee9303a-804b-4a7b-bd1e-f832b544a16c",
   "metadata": {},
   "outputs": [],
   "source": [
    "et_model = create_model('et')"
   ]
  },
  {
   "cell_type": "code",
   "execution_count": null,
   "id": "ef2692c4-eb23-4487-ac42-bdf0d6d18be7",
   "metadata": {},
   "outputs": [],
   "source": [
    "save_model(et_model, \"et_model\")"
   ]
  },
  {
   "cell_type": "markdown",
   "id": "c506d8a2-b3bd-46b1-880f-6d1904d5ee18",
   "metadata": {},
   "source": [
    "# Tune a model"
   ]
  },
  {
   "cell_type": "code",
   "execution_count": null,
   "id": "4801a98f-a794-4c16-87fa-9eacb9496205",
   "metadata": {},
   "outputs": [],
   "source": [
    "tuned_et_model = tune_model(et_model)"
   ]
  },
  {
   "cell_type": "markdown",
   "id": "00b81a91-97c6-4c9c-b7bc-bc2bb6c90e42",
   "metadata": {},
   "source": [
    "# Plot a model"
   ]
  },
  {
   "cell_type": "code",
   "execution_count": null,
   "id": "f707b188-6311-43be-b341-456b36c1449b",
   "metadata": {},
   "outputs": [],
   "source": [
    "plot_model(et_model, plot = 'residuals', save=True)\n",
    "plot_model(et_model, plot = 'error', save=True)\n",
    "plot_model(et_model, plot = 'feature', save=True)"
   ]
  },
  {
   "cell_type": "markdown",
   "id": "e7be1691-ece4-49f0-9b6a-54cff11c66ae",
   "metadata": {},
   "source": [
    "# Prediction on unseen dataset"
   ]
  },
  {
   "cell_type": "code",
   "execution_count": null,
   "id": "904b36fe-96d5-4437-af16-2abff259be3c",
   "metadata": {},
   "outputs": [],
   "source": [
    "from pycaret.utils import check_metric\n",
    "\n",
    "predict_unseen_dataset = predict_model(et_model, data=data_unseen)\n",
    "check_metric(predict_unseen_dataset.pKi, predict_unseen_dataset.Label, 'R2')\n",
    "predict_unseen_dataset.to_csv(\"predicted_unseen_dataset_et_model.csv\")"
   ]
  },
  {
   "cell_type": "markdown",
   "id": "e42fac54-41f1-42e9-ac96-134472be5de9",
   "metadata": {},
   "source": [
    "# Prediction on new dataset"
   ]
  },
  {
   "cell_type": "code",
   "execution_count": null,
   "id": "5c7f9131-f54f-460f-a30b-59714c9a8437",
   "metadata": {},
   "outputs": [],
   "source": [
    "et = load_model(\"et_model\")\n",
    "new = pd.read_csv(\"Dataset/new.csv\")"
   ]
  },
  {
   "cell_type": "code",
   "execution_count": null,
   "id": "3a77d35d-eca0-421f-af55-6b26ad50e3a3",
   "metadata": {},
   "outputs": [],
   "source": [
    "predict_new = predict_model(et_model, data=new)\n",
    "predict_new = predict_new.drop(columns=('pKvina'))\n",
    "predict_new[\"pKvina\"] = predict_new[\"vina_score\"]*(-0.73349)\n",
    "predict_new.to_csv(\"predict_new.csv\")"
   ]
  }
 ],
 "metadata": {
  "kernelspec": {
   "display_name": "Python 3",
   "language": "python",
   "name": "python3"
  },
  "language_info": {
   "codemirror_mode": {
    "name": "ipython",
    "version": 3
   },
   "file_extension": ".py",
   "mimetype": "text/x-python",
   "name": "python",
   "nbconvert_exporter": "python",
   "pygments_lexer": "ipython3",
   "version": "3.9.1"
  }
 },
 "nbformat": 4,
 "nbformat_minor": 5
}
